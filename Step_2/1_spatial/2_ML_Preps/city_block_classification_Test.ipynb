{
 "cells": [
  {
   "cell_type": "code",
   "execution_count": 1,
   "metadata": {},
   "outputs": [],
   "source": [
    "import pandas as pd # Manejo de bases de datos\n",
    "import geopandas as gpd # Manejo de bases de datos geográficas\n",
    "import numpy as np # Funciones numéricas\n",
    "import matplotlib.pyplot as plt # Gráficas\n",
    "import seaborn as sns # Gráficas\n",
    "import datetime as dt\n",
    "import folium\n",
    "import unicodedata\n",
    "import geojson\n",
    "import urllib, json\n",
    "\n",
    "from sklearn.cluster import KMeans\n",
    "from sklearn.model_selection import train_test_split\n",
    "from sklearn import neighbors\n",
    "from sklearn.metrics import confusion_matrix, ConfusionMatrixDisplay\n",
    "from sklearn.neural_network import MLPClassifier\n",
    "from sklearn.ensemble import RandomForestClassifier\n",
    "\n",
    "from shapely.geometry import LineString, Point\n",
    "from geopandas.tools import sjoin"
   ]
  },
  {
   "cell_type": "markdown",
   "metadata": {},
   "source": [
    "### Get Training set from previously performed UTAM clustering"
   ]
  },
  {
   "cell_type": "code",
   "execution_count": 3,
   "metadata": {},
   "outputs": [],
   "source": [
    "# Peak contagion dates from Bogotá\n",
    "peak_dates = ['01/05/2020' ,'01/08/2020', '01/11/2020', '10/01/2021', '01/03/2021', '01/05/2021',\n",
    "             '10/06/2021', '01/09/2021']\n",
    "\n",
    "peak_dates2 = ['01-05-2020' ,'01-08-2020', '01-11-2020', '10-01-2021', '01-03-2021', '01-05-2021',\n",
    "             '10-06-2021', '01-09-2021']\n",
    "\n",
    "peak_dates3 = peak_dates2\n",
    "\n",
    "ClustDF_list = []\n",
    "base_path = '/home/ubuntu/javeriana/MOTUS-PUJ/Step_2/2_ML_Preps/Test_Clustering_DF/'\n",
    "# Load files\n",
    "for k in range(len(peak_dates3)):\n",
    "    file_name = 'date_'+peak_dates3[k]+'.pkl'\n",
    "    temp = pd.read_pickle(base_path+file_name, compression='gzip')\n",
    "    temp = gpd.GeoDataFrame(temp)\n",
    "    ClustDF_list.append(temp)\n",
    "    ClustDF_list[k].crs = \"EPSG:4326\"\n",
    "    ClustDF_list[k].to_crs(epsg=4326, inplace=True)\n",
    "    del temp\n",
    "    \n",
    "ClustDFmat_list = []\n",
    "# Drop un needed cols\n",
    "for i in range(len(peak_dates3)):\n",
    "    ClustDFmat_list.append(ClustDF_list[i].copy())\n",
    "    ClustDFmat_list[i].drop(columns={'LOCNombre', 'PopLoc','UTAM', 'LOCid', 'UTAMNombre', 'geometry', \n",
    "                                     'ESTRATOPre', 'PopDen[p/km2]', 'N_Hosp', 'N_IPS', 'N_ITur', 'N_SITP', \n",
    "                                     'N_Ecomer', 'Total trips'}, inplace=True)"
   ]
  },
  {
   "cell_type": "code",
   "execution_count": 4,
   "metadata": {},
   "outputs": [],
   "source": [
    "X_list = [] # observation list\n",
    "\n",
    "for i in range(len(ClustDFmat_list)):\n",
    "    X_list.append(ClustDFmat_list[i].to_numpy()) #from DF to matrix\n",
    "    \n",
    "# Kmeans, 2 clusters, bi chars\n",
    "n_clust = 3\n",
    "kmeans_model_list = []\n",
    "kmeans_model_labels = []\n",
    "#Train model \n",
    "global_kmeans = KMeans(n_clusters=n_clust, random_state=10).fit(X_list[3])\n",
    "\n",
    "for i in range(len(X_list)):\n",
    "    #Predict Clusters\n",
    "    kmeans_model_labels.append(global_kmeans.predict(X_list[i]))\n",
    "    \n",
    "kmeans_DF_list = ClustDF_list.copy()\n",
    "# Add predicted labels to DataFrame\n",
    "for i in range(len(kmeans_DF_list)):\n",
    "    kmeans_DF_list[i]['kmeans_label_full'] = kmeans_model_labels[i]"
   ]
  },
  {
   "cell_type": "code",
   "execution_count": 5,
   "metadata": {
    "collapsed": true,
    "jupyter": {
     "outputs_hidden": true
    }
   },
   "outputs": [
    {
     "name": "stdout",
     "output_type": "stream",
     "text": [
      "Date:  01-05-2020 \n",
      " Cluster:  0 \n",
      " Score:  0.44984276893972697 \n",
      "\n",
      "Date:  01-05-2020 \n",
      " Cluster:  1 \n",
      " Score:  1.0742170813666823 \n",
      "\n",
      "Date:  01-05-2020 \n",
      " Cluster:  2 \n",
      " Score:  0.7787223890781001 \n",
      "\n",
      "\n",
      "\n",
      "Date:  01-08-2020 \n",
      " Cluster:  0 \n",
      " Score:  0.543648420668687 \n",
      "\n",
      "Date:  01-08-2020 \n",
      " Cluster:  1 \n",
      " Score:  1.229762648472319 \n",
      "\n",
      "Date:  01-08-2020 \n",
      " Cluster:  2 \n",
      " Score:  0.8212921267124227 \n",
      "\n",
      "\n",
      "\n",
      "Date:  01-11-2020 \n",
      " Cluster:  0 \n",
      " Score:  0.5337476594245056 \n",
      "\n",
      "Date:  01-11-2020 \n",
      " Cluster:  1 \n",
      " Score:  1.2698684785419478 \n",
      "\n",
      "Date:  01-11-2020 \n",
      " Cluster:  2 \n",
      " Score:  0.8411259336946159 \n",
      "\n",
      "\n",
      "\n",
      "Date:  10-01-2021 \n",
      " Cluster:  0 \n",
      " Score:  0.5124724770294031 \n",
      "\n",
      "Date:  10-01-2021 \n",
      " Cluster:  1 \n",
      " Score:  1.2122277502324275 \n",
      "\n",
      "Date:  10-01-2021 \n",
      " Cluster:  2 \n",
      " Score:  0.8065807243984281 \n",
      "\n",
      "\n",
      "\n",
      "Date:  01-03-2021 \n",
      " Cluster:  0 \n",
      " Score:  0.5287251266832589 \n",
      "\n",
      "Date:  01-03-2021 \n",
      " Cluster:  1 \n",
      " Score:  1.2669131872413129 \n",
      "\n",
      "Date:  01-03-2021 \n",
      " Cluster:  2 \n",
      " Score:  0.8598623477266922 \n",
      "\n",
      "\n",
      "\n",
      "Date:  01-05-2021 \n",
      " Cluster:  0 \n",
      " Score:  0.5377768655980131 \n",
      "\n",
      "Date:  01-05-2021 \n",
      " Cluster:  1 \n",
      " Score:  1.2947851310592773 \n",
      "\n",
      "Date:  01-05-2021 \n",
      " Cluster:  2 \n",
      " Score:  0.847511675141435 \n",
      "\n",
      "\n",
      "\n",
      "Date:  10-06-2021 \n",
      " Cluster:  0 \n",
      " Score:  0.5373075492382064 \n",
      "\n",
      "Date:  10-06-2021 \n",
      " Cluster:  1 \n",
      " Score:  1.2715812242965951 \n",
      "\n",
      "Date:  10-06-2021 \n",
      " Cluster:  2 \n",
      " Score:  0.8029460140871096 \n",
      "\n",
      "\n",
      "\n",
      "Date:  01-09-2021 \n",
      " Cluster:  0 \n",
      " Score:  0.4536208371324746 \n",
      "\n",
      "Date:  01-09-2021 \n",
      " Cluster:  1 \n",
      " Score:  1.1142928782391488 \n",
      "\n",
      "Date:  01-09-2021 \n",
      " Cluster:  2 \n",
      " Score:  0.8148071958946078 \n",
      "\n",
      "\n",
      "\n"
     ]
    }
   ],
   "source": [
    "# Check the risk each cluster belongs to with a defined score as the sum of the mean normalized RT \n",
    "# and active cases in each cluster\n",
    "for i in range(len(kmeans_DF_list)):\n",
    "    for j in range(n_clust):\n",
    "        temp = kmeans_DF_list[i][ kmeans_DF_list[i]['kmeans_label_full'] == j ]\n",
    "        \n",
    "        tot_case = sum(temp['UTAM_cases'+peak_dates3[i]].values.tolist())/len(temp['UTAM_cases'+peak_dates3[i]].values.tolist())\n",
    "        mean_rt = sum(temp['local_rt_'+peak_dates3[i]].values.tolist())/len(temp['local_rt_'+peak_dates3[i]].values.tolist())\n",
    "        score = tot_case+mean_rt\n",
    "        \n",
    "        print('Date: ',peak_dates3[i],'\\n',\n",
    "             'Cluster: ',j,'\\n',\n",
    "             'Score: ',score,'\\n')\n",
    "    print('\\n')"
   ]
  },
  {
   "cell_type": "code",
   "execution_count": 6,
   "metadata": {},
   "outputs": [],
   "source": [
    "# Stratify risk \n",
    "\n",
    "# 0cluster -> low\n",
    "# 1cluster -> high\n",
    "# 2cluster -> med\n",
    "#Function used to stratify risk\n",
    "def stratRisk(etq):\n",
    "    if etq == 0:\n",
    "        return 0\n",
    "    \n",
    "    elif etq == 1:\n",
    "        return 2\n",
    "    \n",
    "    elif etq == 2:\n",
    "        return 1\n",
    "    \n",
    "# Stratify risk\n",
    "for i in range(len(kmeans_DF_list)):\n",
    "    kmeans_DF_list[i]['Strat_risk'] = kmeans_DF_list[i].apply(lambda row: stratRisk(row['kmeans_label_full']) ,axis=1)"
   ]
  },
  {
   "cell_type": "code",
   "execution_count": 7,
   "metadata": {},
   "outputs": [],
   "source": [
    "# Characteristic matrix and labels\n",
    "Xc_list = []\n",
    "Yl_list = []\n",
    "\n",
    "for i in range(len(ClustDFmat_list)):\n",
    "    Xc_list.append(ClustDFmat_list[i].to_numpy())\n",
    "    Yl_list.append(kmeans_DF_list[i]['Strat_risk'].to_numpy())"
   ]
  },
  {
   "cell_type": "code",
   "execution_count": 8,
   "metadata": {},
   "outputs": [],
   "source": [
    "# labels for specific date\n",
    "ClustDFmat_list[6]['labels'] = kmeans_DF_list[6]['Strat_risk']\n",
    "# This specific date is used to train classification model\n",
    "ClustDFmat_list[6].to_pickle('/home/ubuntu/javeriana/MOTUS-PUJ/Step_2/2_ML_Preps/Outputs/TrainClass.pkl')"
   ]
  },
  {
   "cell_type": "markdown",
   "metadata": {},
   "source": [
    "### k Nearest Neighbors classifier"
   ]
  },
  {
   "cell_type": "code",
   "execution_count": 9,
   "metadata": {},
   "outputs": [],
   "source": [
    "# select date\n",
    "sd = 7\n",
    "# Partition train and test batches\n",
    "X_train, X_test, y_train, y_test = train_test_split(Xc_list[sd], Yl_list[sd], test_size=0.65)"
   ]
  },
  {
   "cell_type": "code",
   "execution_count": 10,
   "metadata": {},
   "outputs": [],
   "source": [
    "# Train k Nearest Neighbors classifier \n",
    "Nclf = neighbors.KNeighborsClassifier(n_neighbors=16, weights='distance', algorithm='auto')\n",
    "Nclf.fit(X_train, y_train)\n",
    "\n",
    "#Predict risk for utams in order to check confusion matrix\n",
    "pred_label = Nclf.predict(X_test)"
   ]
  },
  {
   "cell_type": "code",
   "execution_count": 11,
   "metadata": {},
   "outputs": [
    {
     "data": {
      "image/png": "[encoded data removed]",
      "text/plain": [
       "<Figure size 432x288 with 2 Axes>"
      ]
     },
     "metadata": {
      "needs_background": "light"
     },
     "output_type": "display_data"
    }
   ],
   "source": [
    "#Confusion matrix\n",
    "cm = confusion_matrix(y_test, pred_label)\n",
    "disp = ConfusionMatrixDisplay(confusion_matrix=cm)\n",
    "disp.plot()\n",
    "plt.title('KNN_'+peak_dates3[sd], fontsize=12)\n",
    "plt.figure(1, figsize=[8, 8])\n",
    "\n",
    "cm_name = 'date_'+peak_dates3[sd]\n",
    "plt.savefig('/home/ubuntu/javeriana/MOTUS-PUJ/Step_2/2_ML_Preps/Outputs/'+cm_name)"
   ]
  },
  {
   "cell_type": "markdown",
   "metadata": {},
   "source": [
    "### Neural Network Classifier (Multi Layer Percepron)"
   ]
  },
  {
   "cell_type": "code",
   "execution_count": 13,
   "metadata": {},
   "outputs": [],
   "source": [
    "# select date\n",
    "sd = 5\n",
    "# Partition train and test batches\n",
    "X_train, X_test, y_train, y_test = train_test_split(Xc_list[sd], Yl_list[sd], test_size=0.65)"
   ]
  },
  {
   "cell_type": "code",
   "execution_count": 14,
   "metadata": {},
   "outputs": [],
   "source": [
    "# Train \n",
    "NN = MLPClassifier(solver='lbfgs', alpha=1e-5, hidden_layer_sizes=(), random_state=1)\n",
    "NN.fit(X_train, y_train)\n",
    "# Predict\n",
    "pred_label = NN.predict(X_test)"
   ]
  },
  {
   "cell_type": "code",
   "execution_count": 15,
   "metadata": {},
   "outputs": [
    {
     "data": {
      "image/png": "[encoded data removed]",
      "text/plain": [
       "<Figure size 432x288 with 2 Axes>"
      ]
     },
     "metadata": {
      "needs_background": "light"
     },
     "output_type": "display_data"
    }
   ],
   "source": [
    "#Confusion matrix\n",
    "cm = confusion_matrix(y_test, pred_label)\n",
    "disp = ConfusionMatrixDisplay(confusion_matrix=cm)\n",
    "disp.plot()\n",
    "plt.title('NN_MLP'+peak_dates3[sd], fontsize=12)\n",
    "plt.figure(1, figsize=[8, 8])\n",
    "\n",
    "cm_name = 'date_'+peak_dates3[sd]\n",
    "plt.savefig('/home/ubuntu/javeriana/MOTUS-PUJ/Step_2/2_ML_Preps/Outputs/'+cm_name)"
   ]
  },
  {
   "cell_type": "markdown",
   "metadata": {},
   "source": [
    "### Random Forest"
   ]
  },
  {
   "cell_type": "code",
   "execution_count": 16,
   "metadata": {},
   "outputs": [],
   "source": [
    "# select date\n",
    "sd = 7\n",
    "# Partition train and test batches\n",
    "X_train, X_test, y_train, y_test = train_test_split(Xc_list[sd], Yl_list[sd], test_size=0.65)"
   ]
  },
  {
   "cell_type": "code",
   "execution_count": 17,
   "metadata": {},
   "outputs": [],
   "source": [
    "# Fit model\n",
    "rf = RandomForestClassifier(random_state=0)\n",
    "rf.fit(X_train, y_train)\n",
    "# Predict\n",
    "pred_label = rf.predict(X_test)"
   ]
  },
  {
   "cell_type": "code",
   "execution_count": 18,
   "metadata": {},
   "outputs": [
    {
     "data": {
      "image/png": "[encoded data removed]",
      "text/plain": [
       "<Figure size 432x288 with 2 Axes>"
      ]
     },
     "metadata": {
      "needs_background": "light"
     },
     "output_type": "display_data"
    }
   ],
   "source": [
    "#Confusion matrix\n",
    "cm = confusion_matrix(y_test, pred_label)\n",
    "disp = ConfusionMatrixDisplay(confusion_matrix=cm)\n",
    "disp.plot()\n",
    "plt.title('RF_'+peak_dates3[sd], fontsize=12)\n",
    "plt.figure(1, figsize=[8, 8])\n",
    "\n",
    "cm_name = 'date_'+peak_dates3[sd]\n",
    "plt.savefig('/home/ubuntu/javeriana/MOTUS-PUJ/Step_2/2_ML_Preps/Outputs/'+cm_name)"
   ]
  },
  {
   "cell_type": "markdown",
   "metadata": {},
   "source": [
    "### Predict city block strat risk and create a map"
   ]
  },
  {
   "cell_type": "code",
   "execution_count": 19,
   "metadata": {},
   "outputs": [],
   "source": [
    "# Peak contagion dates\n",
    "peak_dates = ['01/05/2020' ,'01/08/2020', '01/11/2020', '10/01/2021', '01/03/2021', '01/05/2021',\n",
    "             '10/06/2021', '01/09/2021']\n",
    "\n",
    "peak_dates2 = ['01-05-2020' ,'01-08-2020', '01-11-2020', '10-01-2021', '01-03-2021', '01-05-2021',\n",
    "             '10-06-2021', '01-09-2021']\n",
    "\n",
    "peak_dates3 = peak_dates2"
   ]
  },
  {
   "cell_type": "code",
   "execution_count": 20,
   "metadata": {},
   "outputs": [],
   "source": [
    "# Read previously prepared classification DFs\n",
    "ClassDF_list = []\n",
    "base_path = '/home/ubuntu/javeriana/MOTUS-PUJ/Step_2/2_ML_Preps/Test_Classification_DF/'\n",
    "\n",
    "for k in range(len(peak_dates3)):\n",
    "    file_name = 'date_'+peak_dates3[k]+'.pkl'\n",
    "    temp = pd.read_pickle(base_path+file_name, compression='gzip')\n",
    "    temp = gpd.GeoDataFrame(temp)\n",
    "    ClassDF_list.append(temp)\n",
    "    ClassDF_list[k].crs = \"EPSG:4326\"\n",
    "    ClassDF_list[k].to_crs(epsg=4326, inplace=True)\n",
    "    ClassDF_list[k] = ClassDF_list[k][ ClassDF_list[k]['Area_km2'] < 0.4 ]\n",
    "    ClassDF_list[k].reset_index(drop=True, inplace=True)\n",
    "    del temp"
   ]
  },
  {
   "cell_type": "code",
   "execution_count": 21,
   "metadata": {},
   "outputs": [],
   "source": [
    "ClassDFmat_list = []\n",
    "# Drop cols to getrequired matrices to perform classification\n",
    "for i in range(len(peak_dates3)):\n",
    "    ClassDFmat_list.append(ClassDF_list[i].copy())\n",
    "    ClassDFmat_list[i].drop(columns={'MANCODIGO', 'ppl_block', 'Area_km2', 'BlockPopDen', 'geometry',\n",
    "                                    'N_Hosp', 'N_IPS', 'N_ITur', 'N_SITP', 'N_Ecomer', 'UTAM',\n",
    "                                    'LOCid', 'ESTRATOPre', 'total_trips'}, inplace=True)"
   ]
  },
  {
   "cell_type": "markdown",
   "metadata": {},
   "source": [
    "## NN MLP prediction"
   ]
  },
  {
   "cell_type": "code",
   "execution_count": 22,
   "metadata": {},
   "outputs": [],
   "source": [
    "# make classification prediction with NN\n",
    "block_pred_label = []\n",
    "X_list = []\n",
    "\n",
    "#Change DFs to matrices for selected dates\n",
    "for i in range(len(ClassDFmat_list)):\n",
    "    X_list.append(ClassDFmat_list[i].to_numpy())\n",
    "    \n",
    "# Train model \n",
    "NN = MLPClassifier(solver='lbfgs', alpha=1e-5, hidden_layer_sizes=(), random_state=1)\n",
    "NN.fit(Xc_list[6], Yl_list[6])\n",
    "\n",
    "# predict labels\n",
    "for i in range(len(X_list)):\n",
    "    block_pred_label.append(NN.predict(X_list[i]))\n",
    "\n",
    "# add labels to DFs in list\n",
    "for i in range(len(ClassDF_list)):\n",
    "    ClassDF_list[i]['risk_strat'] = block_pred_label[i]"
   ]
  },
  {
   "cell_type": "code",
   "execution_count": null,
   "metadata": {},
   "outputs": [],
   "source": [
    "# Watch predictions and save figure if wanted\n",
    "for i in range(len(ClassDF_list)):\n",
    "    ClassDF_list[i].plot(column='risk_strat', cmap='YlOrRd', figsize=(8,12), legend=True);\n",
    "    plt.title('Stratified risk per city block MLPNN, date: '+peak_dates3[i], fontsize=14);\n",
    "    fig_name = 'date_'+peak_dates3[i]+'_.png'\n",
    "    #plt.savefig('/home/ubuntu/javeriana/MOTUS-PUJ/Step_2/2_ML_Preps/Outputs/'+fig_name)"
   ]
  },
  {
   "cell_type": "markdown",
   "metadata": {},
   "source": [
    "## KNN Prediction"
   ]
  },
  {
   "cell_type": "code",
   "execution_count": 24,
   "metadata": {},
   "outputs": [],
   "source": [
    "# make classification prediction with KNN\n",
    "block_pred_label = []\n",
    "\n",
    "# Train model\n",
    "Nclf = neighbors.KNeighborsClassifier(n_neighbors=16, weights='distance', algorithm='auto')\n",
    "Nclf.fit(Xc_list[6], Yl_list[6])\n",
    "    \n",
    "for i in range(len(X_list)):\n",
    "    block_pred_label.append(Nclf.predict(X_list[i]))\n",
    "    \n",
    "for i in range(len(ClassDF_list)):\n",
    "    ClassDF_list[i]['risk_strat'] = block_pred_label[i]"
   ]
  },
  {
   "cell_type": "code",
   "execution_count": null,
   "metadata": {},
   "outputs": [],
   "source": [
    "# Watch predictions and save figure if wanted\n",
    "for i in range(len(ClassDF_list)):\n",
    "    ClassDF_list[i].plot(column='risk_strat', cmap='YlOrRd', figsize=(8,12), legend=True);\n",
    "    plt.title('Stratified risk per city block KNN, date: '+peak_dates3[i], fontsize=14);\n",
    "    fig_name = 'date_'+peak_dates3[i]+'_.png'\n",
    "    #plt.savefig('/home/ubuntu/javeriana/MOTUS-PUJ/Step_2/2_ML_Preps/Outputs/'+fig_name)"
   ]
  },
  {
   "cell_type": "markdown",
   "metadata": {},
   "source": [
    "## Random Forest prediction"
   ]
  },
  {
   "cell_type": "code",
   "execution_count": 18,
   "metadata": {},
   "outputs": [],
   "source": [
    "# make classification prediction with RN\n",
    "block_pred_label = []\n",
    "# Train model\n",
    "rf = RandomForestClassifier(random_state=0)\n",
    "rf.fit(Xc_list[5], Yl_list[5])\n",
    "\n",
    "# Make predictions\n",
    "for i in range(len(X_list)):\n",
    "    block_pred_label.append(rf.predict(X_list[i]))\n",
    "    \n",
    "# add labels\n",
    "for i in range(len(ClassDF_list)):\n",
    "    ClassDF_list[i]['risk_strat'] = block_pred_label[i]"
   ]
  },
  {
   "cell_type": "code",
   "execution_count": null,
   "metadata": {},
   "outputs": [],
   "source": [
    "# Watch predictions and save figure if wanted\n",
    "for i in range(len(ClassDF_list)):\n",
    "    ClassDF_list[i].plot(column='risk_strat', cmap='YlOrRd', figsize=(8,12), legend=True);\n",
    "    plt.title('Stratified risk per city block RF, date: '+peak_dates3[i], fontsize=14);\n",
    "    fig_name = 'date_'+peak_dates3[i]+'_.png'\n",
    "    #plt.savefig('/home/ubuntu/javeriana/MOTUS-PUJ/Step_2/2_ML_Preps/Outputs/'+fig_name)"
   ]
  },
  {
   "cell_type": "markdown",
   "metadata": {},
   "source": [
    "## Create a route in order to calculate the risk"
   ]
  },
  {
   "cell_type": "code",
   "execution_count": 25,
   "metadata": {},
   "outputs": [],
   "source": [
    "# Origin destiny test route using Here Api\n",
    "Origen = (4.728809332980472, -74.06880833463508) \n",
    "Destino = (4.62894499452047, -74.06466808542737)"
   ]
  },
  {
   "cell_type": "code",
   "execution_count": 26,
   "metadata": {},
   "outputs": [],
   "source": [
    "# peak contagion dates\n",
    "peak_dates4 = ['2020-05-01' ,'2020-08-01', '2020-11-01', '2021-01-10', '2021-03-01', '2021-05-01',\n",
    "             '2021-06-10', '2021-09-01']\n",
    "# choose date\n",
    "sd = 5\n",
    "# API_key\n",
    "API_key = '1NGxYsCA_oIhkYX-tv9HgZ3XH3tEc8rGBzQt0fz-OYY'\n",
    "#### ------- Latitude, longitude ----- ###### \n",
    "Inicio = str(Origen[0])+','+str(Origen[1])\n",
    "Final = str(Destino[0])+','+str(Destino[1])\n",
    "##### ----------- Mode -------- ########\n",
    "# ---- car, pedestrian\t, publicTransport, truck, bicycle\n",
    "Modo = 'publicTransport'\n",
    "# --- Walking speed --- ### \n",
    "#Velocidad_caminar = 1.4\n",
    "#Velocidad_caminar = '&walkSpeed=' + str(Velocidad_caminar)\n",
    "\n",
    "### ------ time analysis ---- #### \n",
    "#Tiempo = dt.datetime.strptime('2020-06-12 14:00:00','%Y-%m-%d %H:%M:%S')\n",
    "Tiempo = dt.datetime.strptime(peak_dates4[sd]+' 06:30:00', '%Y-%m-%d %H:%M:%S')\n",
    "Tiempo=Tiempo.strftime('%Y-%m-%dT%H:%M:%S')\n",
    "Tiempo = '&departure='+str(Tiempo)\n",
    "\n",
    "##### -------- route type ----- ####### \n",
    "## Fastest:\n",
    "## shortest: \n",
    "## balanced: \n",
    "Tipo_ruta = 'balanced'"
   ]
  },
  {
   "cell_type": "code",
   "execution_count": 27,
   "metadata": {},
   "outputs": [],
   "source": [
    "####### ------- make request -------- #####\n",
    "built_url = 'https://route.ls.hereapi.com/routing/7.2/calculateroute.json?apikey='+API_key+'&waypoint0=geo!'+Inicio+'&waypoint1=geo!'+Final+'&mode='+Tipo_ruta+';'+Modo+';traffic:enabled&legattributes=li&c&returnelevation=true&metricSystem=imperial'+str(Tiempo)\n",
    "html_data = pd.read_json(built_url)\n",
    "Datos_ruta = pd.DataFrame(pd.DataFrame(pd.DataFrame(html_data.T['route'].iloc[0])['leg'].iloc[0])['link'].iloc[0])\n",
    "Datos_ruta = pd.DataFrame(pd.concat([pd.DataFrame(x)[0] for x in Datos_ruta['shape']]))[0].reset_index(drop=True)\n",
    "Latitudes = pd.DataFrame({'latitude': Datos_ruta.apply(lambda x: float(x.split(',')[0])),'longitude': Datos_ruta.apply(lambda x: float(x.split(',')[1]))})\n",
    "Ruta_here  = LineString(list(Latitudes.apply(lambda x: (x['longitude'],x['latitude']),axis=1)))"
   ]
  },
  {
   "cell_type": "code",
   "execution_count": 28,
   "metadata": {},
   "outputs": [
    {
     "data": {
      "text/plain": [
       "<folium.features.GeoJson at 0x7fd6f46aed10>"
      ]
     },
     "execution_count": 28,
     "metadata": {},
     "output_type": "execute_result"
    }
   ],
   "source": [
    "# Test folium map\n",
    "mapa = folium.Map(location=[Origen[0],Origen[1]],zoom_start=15,tiles='cartodbpositron')\n",
    "\n",
    "### ---------- Punto inicial --------- #####\n",
    "folium.Marker([Origen[0],Origen[1]],icon=folium.Icon(color='blue'),popup='Inicio').add_to(mapa)\n",
    "### ---------- Punto final --------- #####\n",
    "folium.Marker([Destino[0],Destino[1]],icon=folium.Icon(color='green'),popup='Final').add_to(mapa)\n",
    "\n",
    "Ruta_geojson_here = json.loads(json.dumps(geojson.Feature(geometry=Ruta_here)) )\n",
    "folium.GeoJson(Ruta_geojson_here,\n",
    "style_function=lambda feature: {\n",
    "    'fillColor': 'green',\n",
    "    'color': 'green',\n",
    "    'weight': 2,'dashArray': '5, 5',\n",
    "    'fillOpacity':0.2,\n",
    "},highlight_function=lambda x: {'weight':10,'fillColor':'#fec821','color': '#fec821'},tooltip='Ruta',\n",
    "name='Ruta').add_to(mapa)"
   ]
  },
  {
   "cell_type": "code",
   "execution_count": null,
   "metadata": {},
   "outputs": [],
   "source": [
    "mapa"
   ]
  },
  {
   "cell_type": "code",
   "execution_count": 30,
   "metadata": {},
   "outputs": [
    {
     "name": "stderr",
     "output_type": "stream",
     "text": [
      "/home/ubuntu/.pyenv/versions/3.7.5/envs/motus/lib/python3.7/site-packages/ipykernel_launcher.py:5: UserWarning: CRS mismatch between the CRS of left geometries and the CRS of right geometries.\n",
      "Use `to_crs()` to reproject one of the input geometries to match the CRS of the other.\n",
      "\n",
      "Left CRS: None\n",
      "Right CRS: EPSG:4326\n",
      "\n",
      "  \"\"\"\n"
     ]
    }
   ],
   "source": [
    "# Take route and buffer it to join with adjacent city blocks\n",
    "line_gdf = gpd.GeoDataFrame(geometry=[Ruta_here])\n",
    "line_gdf['geometry'] = line_gdf['geometry'].buffer(0.00009)\n",
    "\n",
    "pru_join = gpd.sjoin(line_gdf, ClassDF_list[0], op=\"intersects\")"
   ]
  }
 ],
 "metadata": {
  "kernelspec": {
   "display_name": "Python 3",
   "language": "python",
   "name": "python3"
  },
  "language_info": {
   "codemirror_mode": {
    "name": "ipython",
    "version": 3
   },
   "file_extension": ".py",
   "mimetype": "text/x-python",
   "name": "python",
   "nbconvert_exporter": "python",
   "pygments_lexer": "ipython3",
   "version": "3.7.5"
  }
 },
 "nbformat": 4,
 "nbformat_minor": 4
}
